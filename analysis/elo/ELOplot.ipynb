{
 "cells": [
  {
   "cell_type": "markdown",
   "metadata": {},
   "source": [
    "##### Prepare data"
   ]
  },
  {
   "cell_type": "code",
   "execution_count": 6,
   "metadata": {},
   "outputs": [],
   "source": [
    "import pandas as pd\n",
    "import plotly \n",
    "import plotly.plotly as py\n",
    "import plotly.graph_objs as go\n",
    "#from plotly.offline import download_plotlyjs, init_notebook_mode, plot, iplot\n",
    "\n",
    "plotly.tools.set_credentials_file(username='chrisstrods', \\\n",
    "                                  api_key='p08RarvxlyCxeqUU0kPS')\n",
    "\n",
    "#init_notebook_mode(connected=True)\n",
    "\n",
    "elomatches = pd.read_csv(\"elo_out.csv\")\n",
    "\n",
    "#Select 2018 matches and remove old teams\n",
    "elo2018 = elomatches.loc[elomatches[\"season\"] == 2018]\n",
    "elo2018 = elo2018.dropna(axis='columns')\n",
    "\n",
    "#Select Port's origin\n",
    "PAhis = elomatches.loc[elomatches[\"season\"] >= 1997]\n",
    "PAhis = PAhis.dropna(axis='columns')\n",
    "\n",
    "\n",
    "\n",
    "\n"
   ]
  },
  {
   "cell_type": "markdown",
   "metadata": {},
   "source": [
    "##### Create traces"
   ]
  },
  {
   "cell_type": "code",
   "execution_count": 7,
   "metadata": {},
   "outputs": [
    {
     "data": {
      "text/html": [
       "<iframe id=\"igraph\" scrolling=\"no\" style=\"border:none;\" seamless=\"seamless\" src=\"https://plot.ly/~chrisstrods/14.embed\" height=\"600px\" width=\"800px\"></iframe>"
      ],
      "text/plain": [
       "<plotly.tools.PlotlyDisplay object>"
      ]
     },
     "execution_count": 7,
     "metadata": {},
     "output_type": "execute_result"
    }
   ],
   "source": [
    "traces = []\n",
    "\n",
    "teams = [\"Adelaide\",\"Brisbane Lions\",\"Carlton\",\"Collingwood\",\"Essendon\",\"Fremantle\",\"Geelong\",\"Gold Coast\",\n",
    "     \"Greater Western Sydney\",\"Hawthorn\",\"Melbourne\",\"North Melbourne\",\"Port Adelaide\",\"Richmond\",\"St Kilda\",\"Sydney\",\n",
    "     \"West Coast\",\"Footscray\"]\n",
    "\n",
    "teamlabels = [\"Adelaide\",\"Brisbane Lions\",\"Carlton\",\"Collingwood\",\"Essendon\",\"Fremantle\",\"Geelong\",\"Gold Coast\",\n",
    "     \"Greater Western Sydney\",\"Hawthorn\",\"Melbourne\",\"North Melbourne\",\"Port Adelaide\",\"Richmond\",\"St Kilda\",\"Sydney\",\n",
    "     \"West Coast\",\"Western Bulldogs\"]\n",
    "\n",
    "teamcolours = ['rgb(242,0,23)','rgb(155, 0, 51)','rgb(2,26,49)','rgb(0,0,0)','rgb(255,17,0)','rgb(29,17,96)',\n",
    "               'rgb(5,23,63)','rgb(155,25,33)','rgb(247,143,30)','rgb(54,21,0)','rgb(2,26,49)','rgb(14,43,141)',\n",
    "               'rgb(0, 142, 143)','rgb(255,214,0)','rgb(252,25,33)','rgb(242,0,23)','rgb(5,23,63)','rgb(13,54,156)']\n",
    "\n",
    "rounds = elo2018[\"round\"]\n",
    "\n",
    "\n",
    "for i in range(0,18):\n",
    "    traces.append(go.Scatter(\n",
    "        x = elo2018[\"round\"],\n",
    "        y = elo2018[teams[i]],\n",
    "        mode = 'lines',\n",
    "        name = teamlabels[i],\n",
    "        line = dict(\n",
    "            color = (teamcolours[i]),\n",
    "            width = 4)))\n",
    "    \n",
    "layout = go.Layout(\n",
    "    autosize=False,\n",
    "    width=800,\n",
    "    height=600,\n",
    "    paper_bgcolor='#ffffff',\n",
    "    legend=dict(x=-0.5, y=0))\n",
    "\n",
    "\n",
    "\n",
    "data = traces\n",
    "fig = go.Figure(data=data,layout=layout)\n",
    "\n",
    "py.iplot(fig,filename='ELO2018-LINES')"
   ]
  },
  {
   "cell_type": "raw",
   "metadata": {},
   "source": [
    "## Create Ladder"
   ]
  },
  {
   "cell_type": "code",
   "execution_count": 8,
   "metadata": {
    "scrolled": true
   },
   "outputs": [
    {
     "data": {
      "text/html": [
       "<iframe id=\"igraph\" scrolling=\"no\" style=\"border:none;\" seamless=\"seamless\" src=\"https://plot.ly/~chrisstrods/16.embed\" height=\"525px\" width=\"100%\"></iframe>"
      ],
      "text/plain": [
       "<plotly.tools.PlotlyDisplay object>"
      ]
     },
     "execution_count": 8,
     "metadata": {},
     "output_type": "execute_result"
    }
   ],
   "source": [
    "candlestick_open = []\n",
    "candlestick_close = []\n",
    "candlestick_max = []\n",
    "candlestick_min = []\n",
    "\n",
    "\n",
    "\n",
    "for i in range(0,18):\n",
    "    candlestick_open.append(elo2018[teams[i]].iloc[0])\n",
    "    candlestick_close.append(elo2018[teams[i]].iloc[-1])\n",
    "    candlestick_max.append(max(elo2018[teams[i]]))\n",
    "    candlestick_min.append(min(elo2018[teams[i]]))\n",
    "\n",
    "trace = go.Candlestick(x=teamlabels,\n",
    "                      open=candlestick_open,\n",
    "                      high=candlestick_max,\n",
    "                      low=candlestick_min,\n",
    "                      close=candlestick_close)\n",
    "                \n",
    "data = [trace]\n",
    "py.iplot(data,filename='ELO2018-CANDLESTICK')\n",
    "    \n",
    "    \n",
    "\n",
    "\n",
    "    \n"
   ]
  },
  {
   "cell_type": "code",
   "execution_count": null,
   "metadata": {},
   "outputs": [],
   "source": []
  },
  {
   "cell_type": "code",
   "execution_count": null,
   "metadata": {},
   "outputs": [],
   "source": []
  }
 ],
 "metadata": {
  "kernelspec": {
   "display_name": "Python 3",
   "language": "python",
   "name": "python3"
  },
  "language_info": {
   "codemirror_mode": {
    "name": "ipython",
    "version": 3
   },
   "file_extension": ".py",
   "mimetype": "text/x-python",
   "name": "python",
   "nbconvert_exporter": "python",
   "pygments_lexer": "ipython3",
   "version": "3.6.5"
  }
 },
 "nbformat": 4,
 "nbformat_minor": 2
}
