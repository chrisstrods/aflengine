{
 "cells": [
  {
   "cell_type": "markdown",
   "metadata": {},
   "source": [
    "##### Prepare data"
   ]
  },
  {
   "cell_type": "code",
   "execution_count": 73,
   "metadata": {},
   "outputs": [],
   "source": [
    "import pandas as pd\n",
    "import plotly \n",
    "import plotly.plotly as py\n",
    "import plotly.graph_objs as go\n",
    "#from plotly.offline import download_plotlyjs, init_notebook_mode, plot, iplot\n",
    "\n",
    "plotly.tools.set_credentials_file(username='chrisstrods', \\\n",
    "                                  api_key='p08RarvxlyCxeqUU0kPS')\n",
    "\n",
    "#init_notebook_mode(connected=True)\n",
    "\n",
    "elomatches = pd.read_csv(\"elo_out.csv\")\n",
    "\n",
    "#Select 2018 matches and remove old teams\n",
    "elo2018 = elomatches.loc[elomatches[\"season\"] == 2018]\n",
    "elo2018 = elo2018.dropna(axis='columns')\n",
    "\n",
    "#Select Port's origin\n",
    "PAhis = elomatches.loc[elomatches[\"season\"] >= 1997]\n",
    "PAhis = PAhis.dropna(axis='columns')\n",
    "\n",
    "\n",
    "\n",
    "\n"
   ]
  },
  {
   "cell_type": "markdown",
   "metadata": {},
   "source": [
    "##### Create traces"
   ]
  },
  {
   "cell_type": "code",
   "execution_count": 74,
   "metadata": {},
   "outputs": [
    {
     "data": {
      "application/vnd.plotly.v1+json": {
       "data": [
        {
         "line": {
          "color": "rgb(242,0,23)",
          "width": 4
         },
         "mode": "lines",
         "name": "Adelaide",
         "type": "scatter",
         "x": [
          "R1",
          "R2",
          "R3",
          "R4",
          "R5",
          "R6",
          "R7",
          "R8",
          "R9",
          "R10",
          "R11",
          "R12",
          "R13",
          "R14"
         ],
         "y": [
          1659,
          1697,
          1706,
          1657,
          1680,
          1688,
          1693,
          1662,
          1680,
          1621,
          1592,
          1558,
          1517,
          1517
         ]
        },
        {
         "line": {
          "color": "rgb(155, 0, 51)",
          "width": 4
         },
         "mode": "lines",
         "name": "Brisbane Lions",
         "type": "scatter",
         "x": [
          "R1",
          "R2",
          "R3",
          "R4",
          "R5",
          "R6",
          "R7",
          "R8",
          "R9",
          "R10",
          "R11",
          "R12",
          "R13",
          "R14"
         ],
         "y": [
          1249,
          1241,
          1236,
          1229,
          1213,
          1208,
          1203,
          1192,
          1255,
          1253,
          1237,
          1228,
          1228,
          1222
         ]
        },
        {
         "line": {
          "color": "rgb(2,26,49)",
          "width": 4
         },
         "mode": "lines",
         "name": "Carlton",
         "type": "scatter",
         "x": [
          "R1",
          "R2",
          "R3",
          "R4",
          "R5",
          "R6",
          "R7",
          "R8",
          "R9",
          "R10",
          "R11",
          "R12",
          "R13",
          "R14"
         ],
         "y": [
          1288,
          1263,
          1252,
          1218,
          1214,
          1201,
          1196,
          1234,
          1225,
          1219,
          1215,
          1215,
          1201,
          1195
         ]
        },
        {
         "line": {
          "color": "rgb(0,0,0)",
          "width": 4
         },
         "mode": "lines",
         "name": "Collingwood",
         "type": "scatter",
         "x": [
          "R1",
          "R2",
          "R3",
          "R4",
          "R5",
          "R6",
          "R7",
          "R8",
          "R9",
          "R10",
          "R11",
          "R12",
          "R13",
          "R14"
         ],
         "y": [
          1448,
          1440,
          1451,
          1500,
          1535,
          1522,
          1527,
          1515,
          1528,
          1555,
          1579,
          1609,
          1609,
          1614
         ]
        },
        {
         "line": {
          "color": "rgb(255,17,0)",
          "width": 4
         },
         "mode": "lines",
         "name": "Essendon",
         "type": "scatter",
         "x": [
          "R1",
          "R2",
          "R3",
          "R4",
          "R5",
          "R6",
          "R7",
          "R8",
          "R9",
          "R10",
          "R11",
          "R12",
          "R13",
          "R14"
         ],
         "y": [
          1504,
          1467,
          1438,
          1479,
          1444,
          1423,
          1411,
          1373,
          1424,
          1458,
          1447,
          1456,
          1456,
          1496
         ]
        },
        {
         "line": {
          "color": "rgb(29,17,96)",
          "width": 4
         },
         "mode": "lines",
         "name": "Fremantle",
         "type": "scatter",
         "x": [
          "R1",
          "R2",
          "R3",
          "R4",
          "R5",
          "R6",
          "R7",
          "R8",
          "R9",
          "R10",
          "R11",
          "R12",
          "R13",
          "R14"
         ],
         "y": [
          1324,
          1362,
          1381,
          1368,
          1417,
          1408,
          1395,
          1426,
          1410,
          1393,
          1369,
          1403,
          1417,
          1417
         ]
        },
        {
         "line": {
          "color": "rgb(5,23,63)",
          "width": 4
         },
         "mode": "lines",
         "name": "Geelong",
         "type": "scatter",
         "x": [
          "R1",
          "R2",
          "R3",
          "R4",
          "R5",
          "R6",
          "R7",
          "R8",
          "R9",
          "R10",
          "R11",
          "R12",
          "R13",
          "R14"
         ],
         "y": [
          1670,
          1647,
          1614,
          1634,
          1656,
          1637,
          1678,
          1690,
          1640,
          1645,
          1651,
          1674,
          1654,
          1654
         ]
        },
        {
         "line": {
          "color": "rgb(155,25,33)",
          "width": 4
         },
         "mode": "lines",
         "name": "Gold Coast",
         "type": "scatter",
         "x": [
          "R1",
          "R2",
          "R3",
          "R4",
          "R5",
          "R6",
          "R7",
          "R8",
          "R9",
          "R10",
          "R11",
          "R12",
          "R13",
          "R14"
         ],
         "y": [
          1282,
          1307,
          1288,
          1272,
          1288,
          1280,
          1266,
          1255,
          1249,
          1249,
          1243,
          1227,
          1215,
          1206
         ]
        },
        {
         "line": {
          "color": "rgb(247,143,30)",
          "width": 4
         },
         "mode": "lines",
         "name": "Greater Western Sydney",
         "type": "scatter",
         "x": [
          "R1",
          "R2",
          "R3",
          "R4",
          "R5",
          "R6",
          "R7",
          "R8",
          "R9",
          "R10",
          "R11",
          "R12",
          "R13",
          "R14"
         ],
         "y": [
          1655,
          1664,
          1638,
          1651,
          1637,
          1643,
          1602,
          1583,
          1537,
          1503,
          1532,
          1548,
          1548,
          1553
         ]
        },
        {
         "line": {
          "color": "rgb(54,21,0)",
          "width": 4
         },
         "mode": "lines",
         "name": "Hawthorn",
         "type": "scatter",
         "x": [
          "R1",
          "R2",
          "R3",
          "R4",
          "R5",
          "R6",
          "R7",
          "R8",
          "R9",
          "R10",
          "R11",
          "R12",
          "R13",
          "R14"
         ],
         "y": [
          1570,
          1593,
          1572,
          1610,
          1565,
          1587,
          1599,
          1585,
          1522,
          1512,
          1540,
          1540,
          1581,
          1590
         ]
        },
        {
         "line": {
          "color": "rgb(2,26,49)",
          "width": 4
         },
         "mode": "lines",
         "name": "Melbourne",
         "type": "scatter",
         "x": [
          "R1",
          "R2",
          "R3",
          "R4",
          "R5",
          "R6",
          "R7",
          "R8",
          "R9",
          "R10",
          "R11",
          "R12",
          "R13",
          "R14"
         ],
         "y": [
          1506,
          1514,
          1536,
          1497,
          1486,
          1507,
          1525,
          1536,
          1545,
          1605,
          1619,
          1589,
          1589,
          1566
         ]
        },
        {
         "line": {
          "color": "rgb(14,43,141)",
          "width": 4
         },
         "mode": "lines",
         "name": "North Melbourne",
         "type": "scatter",
         "x": [
          "R1",
          "R2",
          "R3",
          "R4",
          "R5",
          "R6",
          "R7",
          "R8",
          "R9",
          "R10",
          "R11",
          "R12",
          "R13",
          "R14"
         ],
         "y": [
          1323,
          1375,
          1353,
          1387,
          1432,
          1418,
          1451,
          1445,
          1491,
          1509,
          1524,
          1501,
          1501,
          1513
         ]
        },
        {
         "line": {
          "color": "rgb(0, 142, 143)",
          "width": 4
         },
         "mode": "lines",
         "name": "Port Adelaide",
         "type": "scatter",
         "x": [
          "R1",
          "R2",
          "R3",
          "R4",
          "R5",
          "R6",
          "R7",
          "R8",
          "R9",
          "R10",
          "R11",
          "R12",
          "R13",
          "R14"
         ],
         "y": [
          1604,
          1634,
          1639,
          1598,
          1576,
          1590,
          1557,
          1589,
          1595,
          1595,
          1566,
          1602,
          1624,
          1648
         ]
        },
        {
         "line": {
          "color": "rgb(255,214,0)",
          "width": 4
         },
         "mode": "lines",
         "name": "Richmond",
         "type": "scatter",
         "x": [
          "R1",
          "R2",
          "R3",
          "R4",
          "R5",
          "R6",
          "R7",
          "R8",
          "R9",
          "R10",
          "R11",
          "R12",
          "R13",
          "R14"
         ],
         "y": [
          1718,
          1680,
          1701,
          1707,
          1719,
          1732,
          1745,
          1751,
          1707,
          1715,
          1726,
          1689,
          1709,
          1709
         ]
        },
        {
         "line": {
          "color": "rgb(252,25,33)",
          "width": 4
         },
         "mode": "lines",
         "name": "St Kilda",
         "type": "scatter",
         "x": [
          "R1",
          "R2",
          "R3",
          "R4",
          "R5",
          "R6",
          "R7",
          "R8",
          "R9",
          "R10",
          "R11",
          "R12",
          "R13",
          "R14"
         ],
         "y": [
          1502,
          1450,
          1440,
          1419,
          1433,
          1411,
          1393,
          1362,
          1349,
          1341,
          1335,
          1329,
          1341,
          1341
         ]
        },
        {
         "line": {
          "color": "rgb(242,0,23)",
          "width": 4
         },
         "mode": "lines",
         "name": "Sydney",
         "type": "scatter",
         "x": [
          "R1",
          "R2",
          "R3",
          "R4",
          "R5",
          "R6",
          "R7",
          "R8",
          "R9",
          "R10",
          "R11",
          "R12",
          "R13",
          "R14"
         ],
         "y": [
          1708,
          1678,
          1705,
          1713,
          1690,
          1709,
          1676,
          1690,
          1706,
          1708,
          1712,
          1718,
          1746,
          1746
         ]
        },
        {
         "line": {
          "color": "rgb(5,23,63)",
          "width": 4
         },
         "mode": "lines",
         "name": "West Coast",
         "type": "scatter",
         "x": [
          "R1",
          "R2",
          "R3",
          "R4",
          "R5",
          "R6",
          "R7",
          "R8",
          "R9",
          "R10",
          "R11",
          "R12",
          "R13",
          "R14"
         ],
         "y": [
          1523,
          1548,
          1582,
          1597,
          1601,
          1610,
          1643,
          1663,
          1706,
          1716,
          1722,
          1722,
          1695,
          1655
         ]
        },
        {
         "line": {
          "color": "rgb(13,54,156)",
          "width": 4
         },
         "mode": "lines",
         "name": "Western Bulldogs",
         "type": "scatter",
         "x": [
          "R1",
          "R2",
          "R3",
          "R4",
          "R5",
          "R6",
          "R7",
          "R8",
          "R9",
          "R10",
          "R11",
          "R12",
          "R13",
          "R14"
         ],
         "y": [
          1495,
          1470,
          1498,
          1490,
          1441,
          1455,
          1469,
          1480,
          1461,
          1434,
          1420,
          1420,
          1398,
          1386
         ]
        }
       ],
       "layout": {
        "autosize": false,
        "height": 600,
        "legend": {
         "x": -0.5,
         "y": 0
        },
        "paper_bgcolor": "#ffffff",
        "width": 800
       }
      },
      "text/html": [
       "<div id=\"62bf2f73-43f4-4d1a-89ae-3eeba6c1293d\" style=\"height: 600px; width: 800px;\" class=\"plotly-graph-div\"></div><script type=\"text/javascript\">require([\"plotly\"], function(Plotly) { window.PLOTLYENV=window.PLOTLYENV || {};window.PLOTLYENV.BASE_URL=\"https://plot.ly\";Plotly.newPlot(\"62bf2f73-43f4-4d1a-89ae-3eeba6c1293d\", [{\"type\": \"scatter\", \"x\": [\"R1\", \"R2\", \"R3\", \"R4\", \"R5\", \"R6\", \"R7\", \"R8\", \"R9\", \"R10\", \"R11\", \"R12\", \"R13\", \"R14\"], \"y\": [1659.0, 1697.0, 1706.0, 1657.0, 1680.0, 1688.0, 1693.0, 1662.0, 1680.0, 1621.0, 1592.0, 1558.0, 1517.0, 1517.0], \"mode\": \"lines\", \"name\": \"Adelaide\", \"line\": {\"color\": \"rgb(242,0,23)\", \"width\": 4}}, {\"type\": \"scatter\", \"x\": [\"R1\", \"R2\", \"R3\", \"R4\", \"R5\", \"R6\", \"R7\", \"R8\", \"R9\", \"R10\", \"R11\", \"R12\", \"R13\", \"R14\"], \"y\": [1249.0, 1241.0, 1236.0, 1229.0, 1213.0, 1208.0, 1203.0, 1192.0, 1255.0, 1253.0, 1237.0, 1228.0, 1228.0, 1222.0], \"mode\": \"lines\", \"name\": \"Brisbane Lions\", \"line\": {\"color\": \"rgb(155, 0, 51)\", \"width\": 4}}, {\"type\": \"scatter\", \"x\": [\"R1\", \"R2\", \"R3\", \"R4\", \"R5\", \"R6\", \"R7\", \"R8\", \"R9\", \"R10\", \"R11\", \"R12\", \"R13\", \"R14\"], \"y\": [1288, 1263, 1252, 1218, 1214, 1201, 1196, 1234, 1225, 1219, 1215, 1215, 1201, 1195], \"mode\": \"lines\", \"name\": \"Carlton\", \"line\": {\"color\": \"rgb(2,26,49)\", \"width\": 4}}, {\"type\": \"scatter\", \"x\": [\"R1\", \"R2\", \"R3\", \"R4\", \"R5\", \"R6\", \"R7\", \"R8\", \"R9\", \"R10\", \"R11\", \"R12\", \"R13\", \"R14\"], \"y\": [1448, 1440, 1451, 1500, 1535, 1522, 1527, 1515, 1528, 1555, 1579, 1609, 1609, 1614], \"mode\": \"lines\", \"name\": \"Collingwood\", \"line\": {\"color\": \"rgb(0,0,0)\", \"width\": 4}}, {\"type\": \"scatter\", \"x\": [\"R1\", \"R2\", \"R3\", \"R4\", \"R5\", \"R6\", \"R7\", \"R8\", \"R9\", \"R10\", \"R11\", \"R12\", \"R13\", \"R14\"], \"y\": [1504.0, 1467.0, 1438.0, 1479.0, 1444.0, 1423.0, 1411.0, 1373.0, 1424.0, 1458.0, 1447.0, 1456.0, 1456.0, 1496.0], \"mode\": \"lines\", \"name\": \"Essendon\", \"line\": {\"color\": \"rgb(255,17,0)\", \"width\": 4}}, {\"type\": \"scatter\", \"x\": [\"R1\", \"R2\", \"R3\", \"R4\", \"R5\", \"R6\", \"R7\", \"R8\", \"R9\", \"R10\", \"R11\", \"R12\", \"R13\", \"R14\"], \"y\": [1324.0, 1362.0, 1381.0, 1368.0, 1417.0, 1408.0, 1395.0, 1426.0, 1410.0, 1393.0, 1369.0, 1403.0, 1417.0, 1417.0], \"mode\": \"lines\", \"name\": \"Fremantle\", \"line\": {\"color\": \"rgb(29,17,96)\", \"width\": 4}}, {\"type\": \"scatter\", \"x\": [\"R1\", \"R2\", \"R3\", \"R4\", \"R5\", \"R6\", \"R7\", \"R8\", \"R9\", \"R10\", \"R11\", \"R12\", \"R13\", \"R14\"], \"y\": [1670.0, 1647.0, 1614.0, 1634.0, 1656.0, 1637.0, 1678.0, 1690.0, 1640.0, 1645.0, 1651.0, 1674.0, 1654.0, 1654.0], \"mode\": \"lines\", \"name\": \"Geelong\", \"line\": {\"color\": \"rgb(5,23,63)\", \"width\": 4}}, {\"type\": \"scatter\", \"x\": [\"R1\", \"R2\", \"R3\", \"R4\", \"R5\", \"R6\", \"R7\", \"R8\", \"R9\", \"R10\", \"R11\", \"R12\", \"R13\", \"R14\"], \"y\": [1282.0, 1307.0, 1288.0, 1272.0, 1288.0, 1280.0, 1266.0, 1255.0, 1249.0, 1249.0, 1243.0, 1227.0, 1215.0, 1206.0], \"mode\": \"lines\", \"name\": \"Gold Coast\", \"line\": {\"color\": \"rgb(155,25,33)\", \"width\": 4}}, {\"type\": \"scatter\", \"x\": [\"R1\", \"R2\", \"R3\", \"R4\", \"R5\", \"R6\", \"R7\", \"R8\", \"R9\", \"R10\", \"R11\", \"R12\", \"R13\", \"R14\"], \"y\": [1655.0, 1664.0, 1638.0, 1651.0, 1637.0, 1643.0, 1602.0, 1583.0, 1537.0, 1503.0, 1532.0, 1548.0, 1548.0, 1553.0], \"mode\": \"lines\", \"name\": \"Greater Western Sydney\", \"line\": {\"color\": \"rgb(247,143,30)\", \"width\": 4}}, {\"type\": \"scatter\", \"x\": [\"R1\", \"R2\", \"R3\", \"R4\", \"R5\", \"R6\", \"R7\", \"R8\", \"R9\", \"R10\", \"R11\", \"R12\", \"R13\", \"R14\"], \"y\": [1570.0, 1593.0, 1572.0, 1610.0, 1565.0, 1587.0, 1599.0, 1585.0, 1522.0, 1512.0, 1540.0, 1540.0, 1581.0, 1590.0], \"mode\": \"lines\", \"name\": \"Hawthorn\", \"line\": {\"color\": \"rgb(54,21,0)\", \"width\": 4}}, {\"type\": \"scatter\", \"x\": [\"R1\", \"R2\", \"R3\", \"R4\", \"R5\", \"R6\", \"R7\", \"R8\", \"R9\", \"R10\", \"R11\", \"R12\", \"R13\", \"R14\"], \"y\": [1506.0, 1514.0, 1536.0, 1497.0, 1486.0, 1507.0, 1525.0, 1536.0, 1545.0, 1605.0, 1619.0, 1589.0, 1589.0, 1566.0], \"mode\": \"lines\", \"name\": \"Melbourne\", \"line\": {\"color\": \"rgb(2,26,49)\", \"width\": 4}}, {\"type\": \"scatter\", \"x\": [\"R1\", \"R2\", \"R3\", \"R4\", \"R5\", \"R6\", \"R7\", \"R8\", \"R9\", \"R10\", \"R11\", \"R12\", \"R13\", \"R14\"], \"y\": [1323.0, 1375.0, 1353.0, 1387.0, 1432.0, 1418.0, 1451.0, 1445.0, 1491.0, 1509.0, 1524.0, 1501.0, 1501.0, 1513.0], \"mode\": \"lines\", \"name\": \"North Melbourne\", \"line\": {\"color\": \"rgb(14,43,141)\", \"width\": 4}}, {\"type\": \"scatter\", \"x\": [\"R1\", \"R2\", \"R3\", \"R4\", \"R5\", \"R6\", \"R7\", \"R8\", \"R9\", \"R10\", \"R11\", \"R12\", \"R13\", \"R14\"], \"y\": [1604.0, 1634.0, 1639.0, 1598.0, 1576.0, 1590.0, 1557.0, 1589.0, 1595.0, 1595.0, 1566.0, 1602.0, 1624.0, 1648.0], \"mode\": \"lines\", \"name\": \"Port Adelaide\", \"line\": {\"color\": \"rgb(0, 142, 143)\", \"width\": 4}}, {\"type\": \"scatter\", \"x\": [\"R1\", \"R2\", \"R3\", \"R4\", \"R5\", \"R6\", \"R7\", \"R8\", \"R9\", \"R10\", \"R11\", \"R12\", \"R13\", \"R14\"], \"y\": [1718.0, 1680.0, 1701.0, 1707.0, 1719.0, 1732.0, 1745.0, 1751.0, 1707.0, 1715.0, 1726.0, 1689.0, 1709.0, 1709.0], \"mode\": \"lines\", \"name\": \"Richmond\", \"line\": {\"color\": \"rgb(255,214,0)\", \"width\": 4}}, {\"type\": \"scatter\", \"x\": [\"R1\", \"R2\", \"R3\", \"R4\", \"R5\", \"R6\", \"R7\", \"R8\", \"R9\", \"R10\", \"R11\", \"R12\", \"R13\", \"R14\"], \"y\": [1502.0, 1450.0, 1440.0, 1419.0, 1433.0, 1411.0, 1393.0, 1362.0, 1349.0, 1341.0, 1335.0, 1329.0, 1341.0, 1341.0], \"mode\": \"lines\", \"name\": \"St Kilda\", \"line\": {\"color\": \"rgb(252,25,33)\", \"width\": 4}}, {\"type\": \"scatter\", \"x\": [\"R1\", \"R2\", \"R3\", \"R4\", \"R5\", \"R6\", \"R7\", \"R8\", \"R9\", \"R10\", \"R11\", \"R12\", \"R13\", \"R14\"], \"y\": [1708.0, 1678.0, 1705.0, 1713.0, 1690.0, 1709.0, 1676.0, 1690.0, 1706.0, 1708.0, 1712.0, 1718.0, 1746.0, 1746.0], \"mode\": \"lines\", \"name\": \"Sydney\", \"line\": {\"color\": \"rgb(242,0,23)\", \"width\": 4}}, {\"type\": \"scatter\", \"x\": [\"R1\", \"R2\", \"R3\", \"R4\", \"R5\", \"R6\", \"R7\", \"R8\", \"R9\", \"R10\", \"R11\", \"R12\", \"R13\", \"R14\"], \"y\": [1523.0, 1548.0, 1582.0, 1597.0, 1601.0, 1610.0, 1643.0, 1663.0, 1706.0, 1716.0, 1722.0, 1722.0, 1695.0, 1655.0], \"mode\": \"lines\", \"name\": \"West Coast\", \"line\": {\"color\": \"rgb(5,23,63)\", \"width\": 4}}, {\"type\": \"scatter\", \"x\": [\"R1\", \"R2\", \"R3\", \"R4\", \"R5\", \"R6\", \"R7\", \"R8\", \"R9\", \"R10\", \"R11\", \"R12\", \"R13\", \"R14\"], \"y\": [1495.0, 1470.0, 1498.0, 1490.0, 1441.0, 1455.0, 1469.0, 1480.0, 1461.0, 1434.0, 1420.0, 1420.0, 1398.0, 1386.0], \"mode\": \"lines\", \"name\": \"Western Bulldogs\", \"line\": {\"color\": \"rgb(13,54,156)\", \"width\": 4}}], {\"autosize\": false, \"width\": 800, \"height\": 600, \"paper_bgcolor\": \"#ffffff\", \"legend\": {\"x\": -0.5, \"y\": 0}}, {\"showLink\": true, \"linkText\": \"Export to plot.ly\"})});</script>"
      ],
      "text/vnd.plotly.v1+html": [
       "<div id=\"62bf2f73-43f4-4d1a-89ae-3eeba6c1293d\" style=\"height: 600px; width: 800px;\" class=\"plotly-graph-div\"></div><script type=\"text/javascript\">require([\"plotly\"], function(Plotly) { window.PLOTLYENV=window.PLOTLYENV || {};window.PLOTLYENV.BASE_URL=\"https://plot.ly\";Plotly.newPlot(\"62bf2f73-43f4-4d1a-89ae-3eeba6c1293d\", [{\"type\": \"scatter\", \"x\": [\"R1\", \"R2\", \"R3\", \"R4\", \"R5\", \"R6\", \"R7\", \"R8\", \"R9\", \"R10\", \"R11\", \"R12\", \"R13\", \"R14\"], \"y\": [1659.0, 1697.0, 1706.0, 1657.0, 1680.0, 1688.0, 1693.0, 1662.0, 1680.0, 1621.0, 1592.0, 1558.0, 1517.0, 1517.0], \"mode\": \"lines\", \"name\": \"Adelaide\", \"line\": {\"color\": \"rgb(242,0,23)\", \"width\": 4}}, {\"type\": \"scatter\", \"x\": [\"R1\", \"R2\", \"R3\", \"R4\", \"R5\", \"R6\", \"R7\", \"R8\", \"R9\", \"R10\", \"R11\", \"R12\", \"R13\", \"R14\"], \"y\": [1249.0, 1241.0, 1236.0, 1229.0, 1213.0, 1208.0, 1203.0, 1192.0, 1255.0, 1253.0, 1237.0, 1228.0, 1228.0, 1222.0], \"mode\": \"lines\", \"name\": \"Brisbane Lions\", \"line\": {\"color\": \"rgb(155, 0, 51)\", \"width\": 4}}, {\"type\": \"scatter\", \"x\": [\"R1\", \"R2\", \"R3\", \"R4\", \"R5\", \"R6\", \"R7\", \"R8\", \"R9\", \"R10\", \"R11\", \"R12\", \"R13\", \"R14\"], \"y\": [1288, 1263, 1252, 1218, 1214, 1201, 1196, 1234, 1225, 1219, 1215, 1215, 1201, 1195], \"mode\": \"lines\", \"name\": \"Carlton\", \"line\": {\"color\": \"rgb(2,26,49)\", \"width\": 4}}, {\"type\": \"scatter\", \"x\": [\"R1\", \"R2\", \"R3\", \"R4\", \"R5\", \"R6\", \"R7\", \"R8\", \"R9\", \"R10\", \"R11\", \"R12\", \"R13\", \"R14\"], \"y\": [1448, 1440, 1451, 1500, 1535, 1522, 1527, 1515, 1528, 1555, 1579, 1609, 1609, 1614], \"mode\": \"lines\", \"name\": \"Collingwood\", \"line\": {\"color\": \"rgb(0,0,0)\", \"width\": 4}}, {\"type\": \"scatter\", \"x\": [\"R1\", \"R2\", \"R3\", \"R4\", \"R5\", \"R6\", \"R7\", \"R8\", \"R9\", \"R10\", \"R11\", \"R12\", \"R13\", \"R14\"], \"y\": [1504.0, 1467.0, 1438.0, 1479.0, 1444.0, 1423.0, 1411.0, 1373.0, 1424.0, 1458.0, 1447.0, 1456.0, 1456.0, 1496.0], \"mode\": \"lines\", \"name\": \"Essendon\", \"line\": {\"color\": \"rgb(255,17,0)\", \"width\": 4}}, {\"type\": \"scatter\", \"x\": [\"R1\", \"R2\", \"R3\", \"R4\", \"R5\", \"R6\", \"R7\", \"R8\", \"R9\", \"R10\", \"R11\", \"R12\", \"R13\", \"R14\"], \"y\": [1324.0, 1362.0, 1381.0, 1368.0, 1417.0, 1408.0, 1395.0, 1426.0, 1410.0, 1393.0, 1369.0, 1403.0, 1417.0, 1417.0], \"mode\": \"lines\", \"name\": \"Fremantle\", \"line\": {\"color\": \"rgb(29,17,96)\", \"width\": 4}}, {\"type\": \"scatter\", \"x\": [\"R1\", \"R2\", \"R3\", \"R4\", \"R5\", \"R6\", \"R7\", \"R8\", \"R9\", \"R10\", \"R11\", \"R12\", \"R13\", \"R14\"], \"y\": [1670.0, 1647.0, 1614.0, 1634.0, 1656.0, 1637.0, 1678.0, 1690.0, 1640.0, 1645.0, 1651.0, 1674.0, 1654.0, 1654.0], \"mode\": \"lines\", \"name\": \"Geelong\", \"line\": {\"color\": \"rgb(5,23,63)\", \"width\": 4}}, {\"type\": \"scatter\", \"x\": [\"R1\", \"R2\", \"R3\", \"R4\", \"R5\", \"R6\", \"R7\", \"R8\", \"R9\", \"R10\", \"R11\", \"R12\", \"R13\", \"R14\"], \"y\": [1282.0, 1307.0, 1288.0, 1272.0, 1288.0, 1280.0, 1266.0, 1255.0, 1249.0, 1249.0, 1243.0, 1227.0, 1215.0, 1206.0], \"mode\": \"lines\", \"name\": \"Gold Coast\", \"line\": {\"color\": \"rgb(155,25,33)\", \"width\": 4}}, {\"type\": \"scatter\", \"x\": [\"R1\", \"R2\", \"R3\", \"R4\", \"R5\", \"R6\", \"R7\", \"R8\", \"R9\", \"R10\", \"R11\", \"R12\", \"R13\", \"R14\"], \"y\": [1655.0, 1664.0, 1638.0, 1651.0, 1637.0, 1643.0, 1602.0, 1583.0, 1537.0, 1503.0, 1532.0, 1548.0, 1548.0, 1553.0], \"mode\": \"lines\", \"name\": \"Greater Western Sydney\", \"line\": {\"color\": \"rgb(247,143,30)\", \"width\": 4}}, {\"type\": \"scatter\", \"x\": [\"R1\", \"R2\", \"R3\", \"R4\", \"R5\", \"R6\", \"R7\", \"R8\", \"R9\", \"R10\", \"R11\", \"R12\", \"R13\", \"R14\"], \"y\": [1570.0, 1593.0, 1572.0, 1610.0, 1565.0, 1587.0, 1599.0, 1585.0, 1522.0, 1512.0, 1540.0, 1540.0, 1581.0, 1590.0], \"mode\": \"lines\", \"name\": \"Hawthorn\", \"line\": {\"color\": \"rgb(54,21,0)\", \"width\": 4}}, {\"type\": \"scatter\", \"x\": [\"R1\", \"R2\", \"R3\", \"R4\", \"R5\", \"R6\", \"R7\", \"R8\", \"R9\", \"R10\", \"R11\", \"R12\", \"R13\", \"R14\"], \"y\": [1506.0, 1514.0, 1536.0, 1497.0, 1486.0, 1507.0, 1525.0, 1536.0, 1545.0, 1605.0, 1619.0, 1589.0, 1589.0, 1566.0], \"mode\": \"lines\", \"name\": \"Melbourne\", \"line\": {\"color\": \"rgb(2,26,49)\", \"width\": 4}}, {\"type\": \"scatter\", \"x\": [\"R1\", \"R2\", \"R3\", \"R4\", \"R5\", \"R6\", \"R7\", \"R8\", \"R9\", \"R10\", \"R11\", \"R12\", \"R13\", \"R14\"], \"y\": [1323.0, 1375.0, 1353.0, 1387.0, 1432.0, 1418.0, 1451.0, 1445.0, 1491.0, 1509.0, 1524.0, 1501.0, 1501.0, 1513.0], \"mode\": \"lines\", \"name\": \"North Melbourne\", \"line\": {\"color\": \"rgb(14,43,141)\", \"width\": 4}}, {\"type\": \"scatter\", \"x\": [\"R1\", \"R2\", \"R3\", \"R4\", \"R5\", \"R6\", \"R7\", \"R8\", \"R9\", \"R10\", \"R11\", \"R12\", \"R13\", \"R14\"], \"y\": [1604.0, 1634.0, 1639.0, 1598.0, 1576.0, 1590.0, 1557.0, 1589.0, 1595.0, 1595.0, 1566.0, 1602.0, 1624.0, 1648.0], \"mode\": \"lines\", \"name\": \"Port Adelaide\", \"line\": {\"color\": \"rgb(0, 142, 143)\", \"width\": 4}}, {\"type\": \"scatter\", \"x\": [\"R1\", \"R2\", \"R3\", \"R4\", \"R5\", \"R6\", \"R7\", \"R8\", \"R9\", \"R10\", \"R11\", \"R12\", \"R13\", \"R14\"], \"y\": [1718.0, 1680.0, 1701.0, 1707.0, 1719.0, 1732.0, 1745.0, 1751.0, 1707.0, 1715.0, 1726.0, 1689.0, 1709.0, 1709.0], \"mode\": \"lines\", \"name\": \"Richmond\", \"line\": {\"color\": \"rgb(255,214,0)\", \"width\": 4}}, {\"type\": \"scatter\", \"x\": [\"R1\", \"R2\", \"R3\", \"R4\", \"R5\", \"R6\", \"R7\", \"R8\", \"R9\", \"R10\", \"R11\", \"R12\", \"R13\", \"R14\"], \"y\": [1502.0, 1450.0, 1440.0, 1419.0, 1433.0, 1411.0, 1393.0, 1362.0, 1349.0, 1341.0, 1335.0, 1329.0, 1341.0, 1341.0], \"mode\": \"lines\", \"name\": \"St Kilda\", \"line\": {\"color\": \"rgb(252,25,33)\", \"width\": 4}}, {\"type\": \"scatter\", \"x\": [\"R1\", \"R2\", \"R3\", \"R4\", \"R5\", \"R6\", \"R7\", \"R8\", \"R9\", \"R10\", \"R11\", \"R12\", \"R13\", \"R14\"], \"y\": [1708.0, 1678.0, 1705.0, 1713.0, 1690.0, 1709.0, 1676.0, 1690.0, 1706.0, 1708.0, 1712.0, 1718.0, 1746.0, 1746.0], \"mode\": \"lines\", \"name\": \"Sydney\", \"line\": {\"color\": \"rgb(242,0,23)\", \"width\": 4}}, {\"type\": \"scatter\", \"x\": [\"R1\", \"R2\", \"R3\", \"R4\", \"R5\", \"R6\", \"R7\", \"R8\", \"R9\", \"R10\", \"R11\", \"R12\", \"R13\", \"R14\"], \"y\": [1523.0, 1548.0, 1582.0, 1597.0, 1601.0, 1610.0, 1643.0, 1663.0, 1706.0, 1716.0, 1722.0, 1722.0, 1695.0, 1655.0], \"mode\": \"lines\", \"name\": \"West Coast\", \"line\": {\"color\": \"rgb(5,23,63)\", \"width\": 4}}, {\"type\": \"scatter\", \"x\": [\"R1\", \"R2\", \"R3\", \"R4\", \"R5\", \"R6\", \"R7\", \"R8\", \"R9\", \"R10\", \"R11\", \"R12\", \"R13\", \"R14\"], \"y\": [1495.0, 1470.0, 1498.0, 1490.0, 1441.0, 1455.0, 1469.0, 1480.0, 1461.0, 1434.0, 1420.0, 1420.0, 1398.0, 1386.0], \"mode\": \"lines\", \"name\": \"Western Bulldogs\", \"line\": {\"color\": \"rgb(13,54,156)\", \"width\": 4}}], {\"autosize\": false, \"width\": 800, \"height\": 600, \"paper_bgcolor\": \"#ffffff\", \"legend\": {\"x\": -0.5, \"y\": 0}}, {\"showLink\": true, \"linkText\": \"Export to plot.ly\"})});</script>"
      ]
     },
     "metadata": {},
     "output_type": "display_data"
    }
   ],
   "source": [
    "traces = []\n",
    "\n",
    "teams = [\"Adelaide\",\"Brisbane Lions\",\"Carlton\",\"Collingwood\",\"Essendon\",\"Fremantle\",\"Geelong\",\"Gold Coast\",\n",
    "     \"Greater Western Sydney\",\"Hawthorn\",\"Melbourne\",\"North Melbourne\",\"Port Adelaide\",\"Richmond\",\"St Kilda\",\"Sydney\",\n",
    "     \"West Coast\",\"Footscray\"]\n",
    "\n",
    "teamlabels = [\"Adelaide\",\"Brisbane Lions\",\"Carlton\",\"Collingwood\",\"Essendon\",\"Fremantle\",\"Geelong\",\"Gold Coast\",\n",
    "     \"Greater Western Sydney\",\"Hawthorn\",\"Melbourne\",\"North Melbourne\",\"Port Adelaide\",\"Richmond\",\"St Kilda\",\"Sydney\",\n",
    "     \"West Coast\",\"Western Bulldogs\"]\n",
    "\n",
    "teamcolours = ['rgb(242,0,23)','rgb(155, 0, 51)','rgb(2,26,49)','rgb(0,0,0)','rgb(255,17,0)','rgb(29,17,96)',\n",
    "               'rgb(5,23,63)','rgb(155,25,33)','rgb(247,143,30)','rgb(54,21,0)','rgb(2,26,49)','rgb(14,43,141)',\n",
    "               'rgb(0, 142, 143)','rgb(255,214,0)','rgb(252,25,33)','rgb(242,0,23)','rgb(5,23,63)','rgb(13,54,156)']\n",
    "\n",
    "rounds = elo2018[\"round\"]\n",
    "\n",
    "\n",
    "for i in range(0,18):\n",
    "    traces.append(go.Scatter(\n",
    "        x = elo2018[\"round\"],\n",
    "        y = elo2018[teams[i]],\n",
    "        mode = 'lines',\n",
    "        name = teamlabels[i],\n",
    "        line = dict(\n",
    "            color = (teamcolours[i]),\n",
    "            width = 4)))\n",
    "    \n",
    "layout = go.Layout(\n",
    "    autosize=False,\n",
    "    width=800,\n",
    "    height=600,\n",
    "    paper_bgcolor='#ffffff',\n",
    "    legend=dict(x=-0.5, y=0))\n",
    "\n",
    "\n",
    "\n",
    "data = traces\n",
    "fig = go.Figure(data=data,layout=layout)\n",
    "\n",
    "iplot(fig,filename='line-mode')"
   ]
  },
  {
   "cell_type": "raw",
   "metadata": {},
   "source": [
    "## Create Ladder"
   ]
  },
  {
   "cell_type": "code",
   "execution_count": 75,
   "metadata": {
    "scrolled": true
   },
   "outputs": [
    {
     "data": {
      "text/html": [
       "<iframe id=\"igraph\" scrolling=\"no\" style=\"border:none;\" seamless=\"seamless\" src=\"https://plot.ly/~chrisstrods/10.embed\" height=\"525px\" width=\"100%\"></iframe>"
      ],
      "text/plain": [
       "<plotly.tools.PlotlyDisplay object>"
      ]
     },
     "execution_count": 75,
     "metadata": {},
     "output_type": "execute_result"
    }
   ],
   "source": [
    "candlestick_open = []\n",
    "candlestick_close = []\n",
    "candlestick_max = []\n",
    "candlestick_min = []\n",
    "\n",
    "\n",
    "\n",
    "for i in range(0,18):\n",
    "    candlestick_open.append(elo2018[teams[i]].iloc[0])\n",
    "    candlestick_close.append(elo2018[teams[i]].iloc[-1])\n",
    "    candlestick_max.append(max(elo2018[teams[i]]))\n",
    "    candlestick_min.append(min(elo2018[teams[i]]))\n",
    "\n",
    "trace = go.Candlestick(x=teamlabels,\n",
    "                      open=candlestick_open,\n",
    "                      high=candlestick_max,\n",
    "                      low=candlestick_min,\n",
    "                      close=candlestick_close)\n",
    "                \n",
    "data = [trace]\n",
    "py.iplot(data,filename='candlestick_teams')\n",
    "    \n",
    "    \n",
    "\n",
    "\n",
    "    \n"
   ]
  },
  {
   "cell_type": "code",
   "execution_count": null,
   "metadata": {},
   "outputs": [],
   "source": []
  },
  {
   "cell_type": "code",
   "execution_count": null,
   "metadata": {},
   "outputs": [],
   "source": []
  }
 ],
 "metadata": {
  "kernelspec": {
   "display_name": "Python 3",
   "language": "python",
   "name": "python3"
  },
  "language_info": {
   "codemirror_mode": {
    "name": "ipython",
    "version": 3
   },
   "file_extension": ".py",
   "mimetype": "text/x-python",
   "name": "python",
   "nbconvert_exporter": "python",
   "pygments_lexer": "ipython3",
   "version": "3.6.5"
  }
 },
 "nbformat": 4,
 "nbformat_minor": 2
}
